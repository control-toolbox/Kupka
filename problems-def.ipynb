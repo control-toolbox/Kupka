{
 "cells": [
  {
   "cell_type": "code",
   "execution_count": 4,
   "id": "246083e4-9571-4150-a459-f4a63f793b61",
   "metadata": {},
   "outputs": [],
   "source": [
    "using OptimalControl"
   ]
  },
  {
   "cell_type": "code",
   "execution_count": 5,
   "id": "d1a33af3-8c38-4a35-ad0e-0a8803e7ca18",
   "metadata": {},
   "outputs": [
    {
     "data": {
      "text/plain": [
       "t ∈ [t0, tf], time\n",
       "x ∈ R, state\n",
       "u ∈ R, control\n",
       "x(t0) == x0\n",
       "x(tf) == xf\n",
       "ẋ(t) == u(t)\n",
       "∫(x(t) * (1 + u(t) ^ 2) ^ (1 / 2)) → min\n"
      ]
     },
     "execution_count": 5,
     "metadata": {},
     "output_type": "execute_result"
    },
    {
     "name": "stdout",
     "output_type": "stream",
     "text": [
      "\n",
      "┌───────┬───────┬─────────┬──────────┬───────────┬─────────────┐\n",
      "│\u001b[33m times \u001b[0m│\u001b[33m state \u001b[0m│\u001b[33m control \u001b[0m│\u001b[33m dynamics \u001b[0m│\u001b[33m objective \u001b[0m│\u001b[33m constraints \u001b[0m│\n",
      "├───────┼───────┼─────────┼──────────┼───────────┼─────────────┤\n",
      "│    ✅ │    ✅ │      ✅ │       ✅ │        ✅ │          ✅ │\n",
      "└───────┴───────┴─────────┴──────────┴───────────┴─────────────┘\n"
     ]
    }
   ],
   "source": [
    "t0 = 0      # initial time\n",
    "tf = 2      # final time\n",
    "x0 = 1      # initial state\n",
    "xf = 1      # final state\n",
    "@def ocp begin\n",
    "    t ∈ [ t0, tf ], time\n",
    "    x ∈ R, state\n",
    "    u ∈ R, control\n",
    "    x(t0) == x0\n",
    "    x(tf) == xf\n",
    "    ẋ(t) == u(t)\n",
    "    ∫(x(t)*(1 + u(t)^2)^(1/2)) → min\n",
    "end"
   ]
  },
  {
   "cell_type": "code",
   "execution_count": 6,
   "id": "a8a23745-c12f-4ed1-a051-bd517c9ccb02",
   "metadata": {},
   "outputs": [
    {
     "data": {
      "text/plain": [
       "F1 (generic function with 1 method)"
      ]
     },
     "execution_count": 6,
     "metadata": {},
     "output_type": "execute_result"
    }
   ],
   "source": [
    "t0 = 0      # initial time\n",
    "r0 = 1      # initial altitude\n",
    "v0 = 0      # initial speed\n",
    "m0 = 1      # initial mass\n",
    "mf = 0.6    # final mass to target\n",
    "\n",
    "@def ocp begin \n",
    "    \n",
    "    tf, variable           # tf is free\n",
    "    t ∈ [ t0, tf ], time\n",
    "    x ∈ R³, state\n",
    "    u ∈ R, control\n",
    "\n",
    "    r = x₁\n",
    "    v = x₂\n",
    "    m = x₃\n",
    "\n",
    "    x(t0) == [ r0, v0, m0 ]\n",
    "    m(tf) == mf,                  (1)\n",
    "    0 ≤ u(t) ≤ 1\n",
    "    r(t) ≥ r0\n",
    "\n",
    "    ẋ(t) == F0(x(t)) + u(t) * F1(x(t))\n",
    "\n",
    "    r(tf) → max\n",
    "    \n",
    "end\n",
    "\n",
    "# Dynamics\n",
    "const Cd = 310\n",
    "const Tmax = 3.5\n",
    "const β = 500\n",
    "const b = 2\n",
    "\n",
    "F0(x) = begin\n",
    "    r, v, m = x\n",
    "    D = Cd * v^2 * exp(-β*(r - 1)) \n",
    "    return [ v, -D/m - 1/r^2, 0 ]\n",
    "end\n",
    "\n",
    "F1(x) = begin\n",
    "    r, v, m = x\n",
    "    return [ 0, Tmax/m, -b*Tmax ]\n",
    "end"
   ]
  },
  {
   "cell_type": "code",
   "execution_count": null,
   "id": "2aff88d7-5480-4758-8584-0f1a6b76b685",
   "metadata": {},
   "outputs": [],
   "source": []
  }
 ],
 "metadata": {
  "kernelspec": {
   "display_name": "Julia 1.9.0",
   "language": "julia",
   "name": "julia-1.9"
  },
  "language_info": {
   "file_extension": ".jl",
   "mimetype": "application/julia",
   "name": "julia",
   "version": "1.9.0"
  }
 },
 "nbformat": 4,
 "nbformat_minor": 5
}
